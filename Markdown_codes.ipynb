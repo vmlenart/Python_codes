{
 "cells": [
  {
   "cell_type": "markdown",
   "metadata": {},
   "source": [
    "# Headings"
   ]
  },
  {
   "cell_type": "markdown",
   "metadata": {},
   "source": [
    "Use the number sign (#) followed by a blank space for notebook titles and section headings:  \n",
    "`# for titles`  \n",
    "`## for major headings`  \n",
    "`### for subheadings`  \n",
    "`#### for 4th level subheadings`"
   ]
  },
  {
   "cell_type": "markdown",
   "metadata": {},
   "source": [
    "# Emphasis"
   ]
  },
  {
   "cell_type": "markdown",
   "metadata": {},
   "source": [
    "Use the following code to emphasize text:  \n",
    "`Bold text: __string__ or **string**` <br>\n",
    "`Italic text: _string_ or *string*`"
   ]
  },
  {
   "cell_type": "markdown",
   "metadata": {},
   "source": [
    "# Mathematical symbols"
   ]
  },
  {
   "cell_type": "markdown",
   "metadata": {},
   "source": [
    "Surround mathematical symbols with a dollar sign (`$`), for example:\n",
    "<br>\n",
    "`$ mathematical symbols $`"
   ]
  },
  {
   "cell_type": "markdown",
   "metadata": {},
   "source": [
    "# Monospace font"
   ]
  },
  {
   "cell_type": "markdown",
   "metadata": {},
   "source": [
    "Surround text with a grave accent (`...`) also called a back single quotation mark, for example:  \n",
    "`string`  \n",
    "You can use the monospace font for file paths, file names, message text that users see, or text that users enter."
   ]
  },
  {
   "cell_type": "markdown",
   "metadata": {},
   "source": [
    "# Line breaks"
   ]
  },
  {
   "cell_type": "markdown",
   "metadata": {},
   "source": [
    "Sometimes markdown doesn’t make line breaks when you want them. To force a linebreak, use the following code: `<br>` or two spaces."
   ]
  },
  {
   "cell_type": "markdown",
   "metadata": {},
   "source": [
    "# Indenting"
   ]
  },
  {
   "cell_type": "markdown",
   "metadata": {},
   "source": [
    "Use the greater than sign (>) followed by a space, for example:  \n",
    "`> Text that will be indented when the Markdown is rendered.Copy\n",
    "Any subsequent text is indented until the next carriage return.`"
   ]
  },
  {
   "cell_type": "markdown",
   "metadata": {},
   "source": [
    "# Bullets"
   ]
  },
  {
   "cell_type": "markdown",
   "metadata": {},
   "source": [
    "To create a circular bullet point, use one of the following methods. Each bullet point must be on its own line.  \n",
    "\n",
    "A hyphen (-) followed by one or two spaces, for example:  \n",
    "`- Bulleted item`  \n",
    "\n",
    "A space, a hyphen (-) and a space, for example:  \n",
    "`- Bulleted item`  \n",
    "\n",
    "An asterisk (`*`) followed by one or two spaces, for example:  \n",
    "`* Bulleted item`  \n",
    "\n",
    "To create a sub bullet, press Tab before entering the bullet point using one of the methods described above. For example:  \n",
    "`- Main bullet point`  \n",
    "`     - Sub bullet point`"
   ]
  },
  {
   "cell_type": "markdown",
   "metadata": {},
   "source": [
    "# Numbered lists"
   ]
  },
  {
   "cell_type": "markdown",
   "metadata": {},
   "source": [
    "To create a numbered list, enter 1. followed by a space, for example:\n",
    "1. Numbered item\n",
    "1. Numbered item\n",
    "\n",
    "For simplicity, you use 1. before each entry. The list will be numbered correctly when you run the cell.  \n",
    "To create a substep, press Tab before entering the numbered item, for example:\n",
    "1. Numbered item\n",
    "     1. Substep"
   ]
  },
  {
   "cell_type": "markdown",
   "metadata": {},
   "source": [
    "# Table"
   ]
  },
  {
   "cell_type": "markdown",
   "metadata": {},
   "source": [
    "`|  | 1 | 2  | 3   | 4    |  \n",
    "|----|---|----|-----|------|  \n",
    "| a  | . | .. | ... | .... |  \n",
    "| b  | ; | ;; | ;;; | ;;;; |  \n",
    "| c  | / | // | /// | //// |`\n"
   ]
  },
  {
   "cell_type": "markdown",
   "metadata": {},
   "source": [
    "| eg | 1 | 2  | 3   | 4    |\n",
    "|----|---|----|-----|------|\n",
    "| a  | . | .. | ... | .... |\n",
    "| b  | ; | ;; | ;;; | ;;;; |\n",
    "| c  | / | // | /// | //// |"
   ]
  },
  {
   "cell_type": "markdown",
   "metadata": {},
   "source": [
    "# Video local"
   ]
  },
  {
   "cell_type": "markdown",
   "metadata": {},
   "source": [
    "<video controls src=\"../images/animation.m4v\" />"
   ]
  },
  {
   "cell_type": "markdown",
   "metadata": {},
   "source": [
    "# imagem local"
   ]
  },
  {
   "cell_type": "markdown",
   "metadata": {},
   "source": [
    "<img src=\"../images/python_logo.svg\" />"
   ]
  },
  {
   "cell_type": "markdown",
   "metadata": {},
   "source": [
    "# local files"
   ]
  },
  {
   "cell_type": "markdown",
   "metadata": {},
   "source": [
    "[subdirectory/]<filename>"
   ]
  },
  {
   "cell_type": "markdown",
   "metadata": {},
   "source": [
    "# LaTeX equations"
   ]
  },
  {
   "cell_type": "markdown",
   "metadata": {},
   "source": [
    "$$e^x=\\sum_{i=0}^\\infty \\frac{1}{i!}x^i$$"
   ]
  },
  {
   "cell_type": "markdown",
   "metadata": {},
   "source": [
    "# Colored note boxes"
   ]
  },
  {
   "cell_type": "markdown",
   "metadata": {},
   "source": [
    "The color of the box is determined by the alert type that you specify:\n",
    "\n",
    "Blue boxes (alert-info)\n",
    "<div class=\"alert alert-block alert-info\">\n",
    "<b>Tip:</b> Use blue boxes (alert-info) for tips and notes. \n",
    "If it’s a note, you don’t have to include the word “Note”.\n",
    "</div>\n",
    "\n",
    "Yellow boxes (alert-warning)\n",
    "<div class=\"alert alert-block alert-warning\">\n",
    "<b>Example:</b> Use yellow boxes for examples that are not \n",
    "inside code cells, or use for mathematical formulas if needed.\n",
    "</div>\n",
    "\n",
    "Green boxes (alert-success)\n",
    "<div class=\"alert alert-block alert-success\">\n",
    "<b>Up to you:</b> Use green boxes sparingly, and only for some specific \n",
    "purpose that the other boxes can't cover. For example, if you have a lot \n",
    "of related content to link to, maybe you decide to use green boxes for \n",
    "related links from each section of a notebook.\n",
    "</div>\n",
    "\n",
    "Red boxes (alert-danger)\n",
    "<div class=\"alert alert-block alert-danger\">\n",
    "<b>Just don't:</b> In general, avoid the red boxes. These should only be\n",
    "used for actions that might cause data loss or another major issue.\n",
    "</div>"
   ]
  },
  {
   "cell_type": "markdown",
   "metadata": {},
   "source": [
    "# Graphics"
   ]
  },
  {
   "cell_type": "markdown",
   "metadata": {},
   "source": [
    "You can attach image files directly to a notebook in Markdown cells by dragging and dropping it into the cell.\n",
    "To add images to other types of cells, you must use a graphic that is hosted on the web and use the following code to insert the graphic:\n",
    "<img src=\"https://www.python.org/static/opengraph-icon-200x200.png\" alt=\"Alt text that describes the graphic\" title=\"Title text\" />"
   ]
  },
  {
   "cell_type": "markdown",
   "metadata": {},
   "source": [
    "# Geometric shapes"
   ]
  },
  {
   "cell_type": "markdown",
   "metadata": {},
   "source": [
    "Use &# followed by the decimal or hex reference number for the shape, for example:  \n",
    "&#reference_number  \n",
    "For a list of reference numbers, see UTF-8 Geometric shapes."
   ]
  },
  {
   "cell_type": "markdown",
   "metadata": {},
   "source": [
    "# Horizontal lines"
   ]
  },
  {
   "cell_type": "markdown",
   "metadata": {},
   "source": [
    "On a new line, enter three asterisks:\n",
    "***"
   ]
  },
  {
   "cell_type": "markdown",
   "metadata": {},
   "source": [
    "# Internal links"
   ]
  },
  {
   "cell_type": "markdown",
   "metadata": {},
   "source": [
    "To link to a section within your notebook, use the following code:  \n",
    "`[Section title](#section-title)`  \n",
    "For the text inside the parentheses, replace any spaces and special characters with a hyphen. For example, if your section is called Analyzing customer purchasing habits, you'd enter:  \n",
    "`[Analyzing customer purchasing habits](#analyzing-customer-purchasing-habits)`  \n",
    "Alternatively, you can add an ID above the section:  \n",
    "`<a id=\"section_ID\"></a>`  \n",
    "To link to a section that has an ID, use the following code:  \n",
    "`[Section title](#section_ID)`"
   ]
  },
  {
   "cell_type": "markdown",
   "metadata": {},
   "source": [
    "# External links"
   ]
  },
  {
   "cell_type": "markdown",
   "metadata": {},
   "source": [
    "To link to an external site, use the following code:  \n",
    "`__[link text](http://url)__`  \n",
    "Surround the link with two underscores (_) on each side"
   ]
  }
 ],
 "metadata": {
  "kernelspec": {
   "display_name": "Python 3",
   "language": "python",
   "name": "python3"
  },
  "language_info": {
   "codemirror_mode": {
    "name": "ipython",
    "version": 3
   },
   "file_extension": ".py",
   "mimetype": "text/x-python",
   "name": "python",
   "nbconvert_exporter": "python",
   "pygments_lexer": "ipython3",
   "version": "3.7.2"
  }
 },
 "nbformat": 4,
 "nbformat_minor": 2
}
